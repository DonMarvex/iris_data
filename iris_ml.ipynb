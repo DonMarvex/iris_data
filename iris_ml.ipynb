{
 "cells": [
  {
   "cell_type": "markdown",
   "id": "6cd6dcb9",
   "metadata": {},
   "source": [
    "# Import Iris Dataset from sklearn.datasets"
   ]
  },
  {
   "cell_type": "code",
   "execution_count": 101,
   "id": "97fc2632",
   "metadata": {},
   "outputs": [],
   "source": [
    "from sklearn.datasets import load_iris\n",
    "iris = load_iris()"
   ]
  },
  {
   "cell_type": "markdown",
   "id": "1538ea71",
   "metadata": {},
   "source": [
    "### Assign variables"
   ]
  },
  {
   "cell_type": "code",
   "execution_count": 102,
   "id": "5476dd28",
   "metadata": {},
   "outputs": [],
   "source": [
    "X = iris.data\n",
    "y = iris.target\n",
    "\n",
    "feature_names = iris.feature_names\n",
    "target_names = iris.target_names"
   ]
  },
  {
   "cell_type": "markdown",
   "id": "444ff1ba",
   "metadata": {},
   "source": [
    "### Create a train_test_split"
   ]
  },
  {
   "cell_type": "code",
   "execution_count": 103,
   "id": "cd026694",
   "metadata": {},
   "outputs": [
    {
     "name": "stdout",
     "output_type": "stream",
     "text": [
      "(120, 4)\n",
      "(30, 4)\n"
     ]
    }
   ],
   "source": [
    "from sklearn.model_selection import train_test_split\n",
    "X_train, X_test, y_train, y_test = train_test_split(X, y, test_size=0.2)\n",
    "\n",
    "print(X_train.shape)\n",
    "print(X_test.shape)"
   ]
  },
  {
   "cell_type": "markdown",
   "id": "7807c853",
   "metadata": {},
   "source": [
    "### Model: KNeighborsClassifier"
   ]
  },
  {
   "cell_type": "code",
   "execution_count": 104,
   "id": "3a59c4f6",
   "metadata": {},
   "outputs": [
    {
     "data": {
      "text/plain": [
       "KNeighborsClassifier(n_neighbors=4)"
      ]
     },
     "execution_count": 104,
     "metadata": {},
     "output_type": "execute_result"
    }
   ],
   "source": [
    "from sklearn.neighbors import KNeighborsClassifier\n",
    "knn = KNeighborsClassifier(n_neighbors=4)\n",
    "knn.fit(X_train, y_train)"
   ]
  },
  {
   "cell_type": "code",
   "execution_count": 105,
   "id": "2b8f23e7",
   "metadata": {},
   "outputs": [],
   "source": [
    "y_pred = knn.predict(X_test)"
   ]
  },
  {
   "cell_type": "code",
   "execution_count": 106,
   "id": "2a0d8286",
   "metadata": {},
   "outputs": [
    {
     "name": "stdout",
     "output_type": "stream",
     "text": [
      "100.0\n"
     ]
    }
   ],
   "source": [
    "from sklearn import metrics\n",
    "print(metrics.accuracy_score(y_test, y_pred)*100)"
   ]
  },
  {
   "cell_type": "markdown",
   "id": "a625eed4",
   "metadata": {},
   "source": [
    "### Predict new sample"
   ]
  },
  {
   "cell_type": "code",
   "execution_count": 107,
   "id": "e2b0d774",
   "metadata": {},
   "outputs": [
    {
     "name": "stdout",
     "output_type": "stream",
     "text": [
      "predictions:  ['versicolor', 'virginica']\n"
     ]
    }
   ],
   "source": [
    "sample = [[3,5,4,2], [2,3,5,4]]\n",
    "predictions = knn.predict(sample)\n",
    "pred_species = [iris.target_names[p] for p in predictions]\n",
    "print(\"predictions: \", pred_species)"
   ]
  },
  {
   "cell_type": "markdown",
   "id": "6e996200",
   "metadata": {},
   "source": [
    "### Save Model using joblib\n",
    "This is required on large scale uses in an implementation where model doesn't have to be trained over and over again as this takes time and alot of computing power. In ML applications for web/mobile, these saved models can be implemented."
   ]
  },
  {
   "cell_type": "code",
   "execution_count": 108,
   "id": "cb64a0b8",
   "metadata": {},
   "outputs": [
    {
     "data": {
      "text/plain": [
       "['mlbrain.joblib']"
      ]
     },
     "execution_count": 108,
     "metadata": {},
     "output_type": "execute_result"
    }
   ],
   "source": [
    "from joblib import dump, load\n",
    "dump(knn, 'mlbrain.joblib')"
   ]
  },
  {
   "cell_type": "code",
   "execution_count": 109,
   "id": "f6c4d1d1",
   "metadata": {
    "scrolled": true
   },
   "outputs": [],
   "source": [
    "model = load('mlbrain.joblib')"
   ]
  },
  {
   "cell_type": "markdown",
   "id": "8f8761e7",
   "metadata": {},
   "source": [
    "### Test saved model"
   ]
  },
  {
   "cell_type": "code",
   "execution_count": 110,
   "id": "e19192ea",
   "metadata": {},
   "outputs": [
    {
     "name": "stdout",
     "output_type": "stream",
     "text": [
      "predictions:  ['versicolor', 'virginica']\n"
     ]
    }
   ],
   "source": [
    "model.predict(X_test)\n",
    "sample = [[3,5,4,2], [2,3,5,4]]\n",
    "predictions = model.predict(sample)\n",
    "pred_species = [iris.target_names[p] for p in predictions]\n",
    "print(\"predictions: \", pred_species)"
   ]
  },
  {
   "cell_type": "code",
   "execution_count": null,
   "id": "f3cfca1a",
   "metadata": {},
   "outputs": [],
   "source": []
  }
 ],
 "metadata": {
  "kernelspec": {
   "display_name": "Python 3 (ipykernel)",
   "language": "python",
   "name": "python3"
  },
  "language_info": {
   "codemirror_mode": {
    "name": "ipython",
    "version": 3
   },
   "file_extension": ".py",
   "mimetype": "text/x-python",
   "name": "python",
   "nbconvert_exporter": "python",
   "pygments_lexer": "ipython3",
   "version": "3.9.7"
  }
 },
 "nbformat": 4,
 "nbformat_minor": 5
}
